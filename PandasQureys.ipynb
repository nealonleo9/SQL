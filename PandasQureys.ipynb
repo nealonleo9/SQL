{
  "nbformat": 4,
  "nbformat_minor": 0,
  "metadata": {
    "colab": {
      "name": "PandasQureys",
      "provenance": [],
      "authorship_tag": "ABX9TyNOZKuL0GCd00uqRN72LNbO",
      "include_colab_link": true
    },
    "kernelspec": {
      "name": "python3",
      "display_name": "Python 3"
    }
  },
  "cells": [
    {
      "cell_type": "markdown",
      "metadata": {
        "id": "view-in-github",
        "colab_type": "text"
      },
      "source": [
        "<a href=\"https://colab.research.google.com/github/nealonleo9/SQL/blob/main/PandasQureys.ipynb\" target=\"_parent\"><img src=\"https://colab.research.google.com/assets/colab-badge.svg\" alt=\"Open In Colab\"/></a>"
      ]
    },
    {
      "cell_type": "code",
      "metadata": {
        "id": "Onb2chMujWth"
      },
      "source": [
        "df1.query('age == 10')"
      ],
      "execution_count": null,
      "outputs": []
    },
    {
      "cell_type": "code",
      "metadata": {
        "id": "YEBpjMGUjarG"
      },
      "source": [
        "You can also achieve this result via the traditional filtering method.\r\n",
        "\r\n",
        "filter_1 = df['Mon'] > df['Tues']\r\n",
        "df[filter_1]"
      ],
      "execution_count": null,
      "outputs": []
    },
    {
      "cell_type": "code",
      "metadata": {
        "id": "soo1gE6Nja7r"
      },
      "source": [
        "If needed you can also use an environment variable to filter your data.\r\n",
        " Make sure to put an \"@\" sign in front of your variable within the string.\r\n",
        "\r\n",
        "dinner_limit=120\r\n",
        "df.query('Thurs > @dinner_limit')"
      ],
      "execution_count": null,
      "outputs": []
    },
    {
      "cell_type": "code",
      "metadata": {
        "id": "yWypchAmjbCl"
      },
      "source": [
        ""
      ],
      "execution_count": null,
      "outputs": []
    }
  ]
}