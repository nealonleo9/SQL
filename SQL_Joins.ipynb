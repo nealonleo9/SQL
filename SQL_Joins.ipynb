{
  "nbformat": 4,
  "nbformat_minor": 0,
  "metadata": {
    "colab": {
      "name": "SQL-Joins",
      "provenance": [],
      "authorship_tag": "ABX9TyPv656mTwyhRIpbcVBq1SFg",
      "include_colab_link": true
    },
    "kernelspec": {
      "name": "python3",
      "display_name": "Python 3"
    }
  },
  "cells": [
    {
      "cell_type": "markdown",
      "metadata": {
        "id": "view-in-github",
        "colab_type": "text"
      },
      "source": [
        "<a href=\"https://colab.research.google.com/github/nealonleo9/SQL/blob/main/SQL_Joins.ipynb\" target=\"_parent\"><img src=\"https://colab.research.google.com/assets/colab-badge.svg\" alt=\"Open In Colab\"/></a>"
      ]
    },
    {
      "cell_type": "markdown",
      "metadata": {
        "id": "IdyoJI-BiysJ"
      },
      "source": [
        "INNER JOIN: The INNER JOIN keyword selects all rows from both the tables as long as the condition satisfies. This keyword will create the result-set by combining all rows from both the tables where the condition satisfies i.e value of the common field will be same.\r\n"
      ]
    },
    {
      "cell_type": "code",
      "metadata": {
        "id": "R31i_9bhj-uG"
      },
      "source": [
        "SELECT table1.column1,table1.column2,table2.column1,....\r\n",
        "FROM table1 \r\n",
        "INNER JOIN table2\r\n",
        "ON table1.matching_column = table2.matching_column;\r\n",
        "\r\n",
        "\r\n",
        "table1: First table.\r\n",
        "table2: Second table\r\n",
        "matching_column: Column common to both the tables."
      ],
      "execution_count": null,
      "outputs": []
    },
    {
      "cell_type": "code",
      "metadata": {
        "id": "Yf-sxxZKjEmr"
      },
      "source": [
        "SELECT StudentCourse.COURSE_ID, Student.NAME, Student.AGE FROM Student\r\n",
        "INNER JOIN StudentCourse\r\n",
        "ON Student.ROLL_NO = StudentCourse.ROLL_NO;"
      ],
      "execution_count": null,
      "outputs": []
    },
    {
      "cell_type": "markdown",
      "metadata": {
        "id": "q3jevF9mjPkP"
      },
      "source": [
        "LEFT JOIN: This join returns all the rows of the table on the left side of the join and matching rows for the table on the right side of join. The rows for which there is no matching row on right side, the result-set will contain null. LEFT JOIN is also known as LEFT OUTER JOIN.Syntax:"
      ]
    },
    {
      "cell_type": "code",
      "metadata": {
        "id": "WDXoLn0sjEz6"
      },
      "source": [
        "SELECT table1.column1,table1.column2,table2.column1,....\r\n",
        "FROM table1 \r\n",
        "LEFT JOIN table2\r\n",
        "ON table1.matching_column = table2.matching_column;\r\n",
        "\r\n",
        "\r\n",
        "table1: First table.\r\n",
        "table2: Second table\r\n",
        "matching_column: Column common to both the tables."
      ],
      "execution_count": null,
      "outputs": []
    },
    {
      "cell_type": "code",
      "metadata": {
        "id": "-pLeDvnwjeZZ"
      },
      "source": [
        "Example Queries(LEFT JOIN):\r\n",
        "\r\n",
        "SELECT Student.NAME,StudentCourse.COURSE_ID \r\n",
        "FROM Student\r\n",
        "LEFT JOIN StudentCourse \r\n",
        "ON StudentCourse.ROLL_NO = Student.ROLL_NO;"
      ],
      "execution_count": null,
      "outputs": []
    },
    {
      "cell_type": "markdown",
      "metadata": {
        "id": "PMsu6EWbjXSz"
      },
      "source": [
        "RIGHT JOIN: RIGHT JOIN is similar to LEFT JOIN. This join returns all the rows of the table on the right side of the join and matching rows for the table on the left side of join. The rows for which there is no matching row on left side, the result-set will contain null. RIGHT JOIN is also known as RIGHT OUTER JOIN.Syntax:\r\n"
      ]
    },
    {
      "cell_type": "code",
      "metadata": {
        "id": "uEiVft3gjE1-"
      },
      "source": [
        "SELECT table1.column1,table1.column2,table2.column1,....\r\n",
        "FROM table1 \r\n",
        "RIGHT JOIN table2\r\n",
        "ON table1.matching_column = table2.matching_column;\r\n",
        "\r\n",
        "\r\n",
        "table1: First table.\r\n",
        "table2: Second table\r\n",
        "matching_column: Column common to both the tables."
      ],
      "execution_count": null,
      "outputs": []
    },
    {
      "cell_type": "code",
      "metadata": {
        "id": "8f-DW-JAjqDZ"
      },
      "source": [
        "Example Queries(RIGHT JOIN):\r\n",
        "\r\n",
        "SELECT Student.NAME,StudentCourse.COURSE_ID \r\n",
        "FROM Student\r\n",
        "RIGHT JOIN StudentCourse \r\n",
        "ON StudentCourse.ROLL_NO = Student.ROLL_NO;"
      ],
      "execution_count": null,
      "outputs": []
    },
    {
      "cell_type": "markdown",
      "metadata": {
        "id": "sXN3kPjOjt5N"
      },
      "source": [
        "FULL JOIN: FULL JOIN creates the result-set by combining result of both LEFT JOIN and RIGHT JOIN. The result-set will contain all the rows from both the tables. The rows for which there is no matching, the result-set will contain NULL values.Syntax:"
      ]
    },
    {
      "cell_type": "code",
      "metadata": {
        "id": "Eg0qE-O1jqF7"
      },
      "source": [
        "SELECT table1.column1,table1.column2,table2.column1,....\r\n",
        "FROM table1 \r\n",
        "FULL JOIN table2\r\n",
        "ON table1.matching_column = table2.matching_column;\r\n",
        "\r\n",
        "\r\n",
        "table1: First table.\r\n",
        "table2: Second table\r\n",
        "matching_column: Column common to both the tables."
      ],
      "execution_count": null,
      "outputs": []
    },
    {
      "cell_type": "code",
      "metadata": {
        "id": "StfH7rHGjqJq"
      },
      "source": [
        "SELECT Student.NAME,StudentCourse.COURSE_ID \r\n",
        "FROM Student\r\n",
        "FULL JOIN StudentCourse \r\n",
        "ON StudentCourse.ROLL_NO = Student.ROLL_NO;"
      ],
      "execution_count": null,
      "outputs": []
    },
    {
      "cell_type": "code",
      "metadata": {
        "id": "HET3J543jqMp"
      },
      "source": [
        "\"https://www.geeksforgeeks.org/sql-join-cartesian-join-self-join/\""
      ],
      "execution_count": null,
      "outputs": []
    },
    {
      "cell_type": "code",
      "metadata": {
        "id": "iejJ4K59jqOu"
      },
      "source": [
        ""
      ],
      "execution_count": null,
      "outputs": []
    },
    {
      "cell_type": "code",
      "metadata": {
        "id": "y1TwiVNxjE4P"
      },
      "source": [
        ""
      ],
      "execution_count": null,
      "outputs": []
    }
  ]
}