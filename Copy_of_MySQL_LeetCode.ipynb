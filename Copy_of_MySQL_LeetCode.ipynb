{
  "nbformat": 4,
  "nbformat_minor": 0,
  "metadata": {
    "colab": {
      "name": "Copy of MySQL-LeetCode",
      "provenance": [],
      "authorship_tag": "ABX9TyPJuD45Os5IfghXfvrk6jJd",
      "include_colab_link": true
    },
    "kernelspec": {
      "name": "python3",
      "display_name": "Python 3"
    }
  },
  "cells": [
    {
      "cell_type": "markdown",
      "metadata": {
        "id": "view-in-github",
        "colab_type": "text"
      },
      "source": [
        "<a href=\"https://colab.research.google.com/github/nealonleo9/SQL/blob/main/Copy_of_MySQL_LeetCode.ipynb\" target=\"_parent\"><img src=\"https://colab.research.google.com/assets/colab-badge.svg\" alt=\"Open In Colab\"/></a>"
      ]
    },
    {
      "cell_type": "code",
      "metadata": {
        "id": "MMl4uPOniKsN"
      },
      "source": [
        "Table: Person\r\n",
        "\r\n",
        "+-------------+---------+\r\n",
        "| Column Name | Type    |\r\n",
        "+-------------+---------+\r\n",
        "| PersonId    | int     |\r\n",
        "| FirstName   | varchar |\r\n",
        "| LastName    | varchar |\r\n",
        "+-------------+---------+\r\n",
        "PersonId is the primary key column for this table.\r\n",
        "Table: Address\r\n",
        "\r\n",
        "+-------------+---------+\r\n",
        "| Column Name | Type    |\r\n",
        "+-------------+---------+\r\n",
        "| AddressId   | int     |\r\n",
        "| PersonId    | int     |\r\n",
        "| City        | varchar |\r\n",
        "| State       | varchar |\r\n",
        "+-------------+---------+\r\n",
        "AddressId is the primary key column for this table.\r\n",
        " \r\n",
        "\r\n",
        "Write a SQL query for a report that provides the following information for each person in the Person table, regardless if there is an address for each of those people:\r\n",
        "\r\n",
        "FirstName, LastName, City, State"
      ],
      "execution_count": null,
      "outputs": []
    },
    {
      "cell_type": "code",
      "metadata": {
        "id": "spTxmD8BeKd7"
      },
      "source": [
        "The prompt states we want the information for EACH person in the Person table, \r\n",
        "regardless whether or not they have an address. \r\n",
        "That means we should include everything in the left table (Person table).\r\n",
        "\r\n",
        "\r\n",
        "\r\n",
        "Read More\r\n",
        "inner join cannot be used as per below:\r\n",
        "regardless if there is an address for each of those people\r\n",
        "\r\n",
        "using inner join will only retrieve persons with name and address\r\n",
        "\r\n",
        "You can use left or right join, both options got accepted"
      ],
      "execution_count": null,
      "outputs": []
    },
    {
      "cell_type": "code",
      "metadata": {
        "id": "n8W2ivgshjyc"
      },
      "source": [
        "SELECT FirstName,LastName,City,State\r\n",
        "FROM Person LEFT JOIN Address ON Person.PersonId = Address.PersonId"
      ],
      "execution_count": null,
      "outputs": []
    },
    {
      "cell_type": "code",
      "metadata": {
        "id": "0c8ipXf-hj2Q"
      },
      "source": [
        "select p.FirstName\r\n",
        "    , p.LastName\r\n",
        "    , a.City\r\n",
        "    , a.State\r\n",
        "from Person p\r\n",
        "    left join Address a on a.PersonId = p.PersonId"
      ],
      "execution_count": null,
      "outputs": []
    },
    {
      "cell_type": "code",
      "metadata": {
        "id": "8lItA8eWhj42"
      },
      "source": [
        "SELECT FirstName, LastName, City, State from Person LEFT JOIN Address USING (PersonId);"
      ],
      "execution_count": null,
      "outputs": []
    },
    {
      "cell_type": "code",
      "metadata": {
        "id": "CW8tjjWykhYu"
      },
      "source": [
        ""
      ],
      "execution_count": null,
      "outputs": []
    },
    {
      "cell_type": "code",
      "metadata": {
        "id": "YgB9TNm9khg0"
      },
      "source": [
        ""
      ],
      "execution_count": null,
      "outputs": []
    }
  ]
}